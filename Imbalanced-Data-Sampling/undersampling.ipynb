{
 "cells": [
  {
   "cell_type": "code",
   "execution_count": 1,
   "id": "72ce26d3",
   "metadata": {},
   "outputs": [],
   "source": [
    "import pandas as pd\n",
    "from sklearn.datasets import make_classification\n",
    "from sklearn.model_selection import train_test_split\n",
    "from sklearn.ensemble import RandomForestClassifier\n",
    "from sklearn.metrics import *\n",
    "from imblearn.under_sampling import *\n",
    "import numpy as np\n",
    "import matplotlib.pylab as plt\n",
    "%matplotlib inline\n",
    "from collections import Counter\n",
    "from sklearn.svm import SVC\n",
    "import seaborn as sns\n",
    "\n",
    "import pickle"
   ]
  },
  {
   "cell_type": "code",
   "execution_count": 52,
   "id": "df1b695e",
   "metadata": {},
   "outputs": [],
   "source": [
    "# sample\n",
    "a=\"hi\"\n",
    "with open(\"filename.pickle\",'wb') as fw:\n",
    "    pickle.dump(a,fw)\n",
    "    \n",
    "with open(\"filename.pickle\",'rb') as fr:\n",
    "    loaded_a=pickle.load(fr)\n",
    "loaded_a\n",
    "\n",
    "# smote_10\n",
    "smote_10 = {\"accuracy\": 0.8809923975487377,\n",
    "            \"roc-auc-score\": 0.7273423574813745,\n",
    "            \"recall\": 0.17945426945908255,\n",
    "            \"precision\": 0.3237160221732452,\n",
    "            \"f1-score\": 0.2309048178613396}\n",
    "with open(\"smote_10.pickle\",'wb') as fw:\n",
    "    pickle.dump(smote_10,fw)"
   ]
  },
  {
   "cell_type": "code",
   "execution_count": 2,
   "id": "ca25f507",
   "metadata": {},
   "outputs": [],
   "source": [
    "df = pd.read_csv(\"WSDM_train_full_features.csv\") ;"
   ]
  },
  {
   "cell_type": "code",
   "execution_count": 3,
   "id": "e5be7338",
   "metadata": {},
   "outputs": [],
   "source": [
    "target0_df = df[df[\"target\"]==0]\n",
    "target1_df = df[df[\"target\"]==1]"
   ]
  },
  {
   "cell_type": "code",
   "execution_count": 4,
   "id": "5dca4cf4",
   "metadata": {},
   "outputs": [
    {
     "name": "stdout",
     "output_type": "stream",
     "text": [
      "1    50.351708\n",
      "0    49.648292\n",
      "Name: target, dtype: float64\n"
     ]
    },
    {
     "data": {
      "image/png": "[encoded data removed]",
      "text/plain": [
       "<Figure size 432x288 with 1 Axes>"
      ]
     },
     "metadata": {
      "needs_background": "light"
     },
     "output_type": "display_data"
    }
   ],
   "source": [
    "df.target.value_counts().plot(kind='bar', title='Count (target)')\n",
    "print(df.target.value_counts(normalize=True)*100)"
   ]
  },
  {
   "cell_type": "markdown",
   "id": "75a35332",
   "metadata": {},
   "source": [
    "# 1이 10% 0이 90%"
   ]
  },
  {
   "cell_type": "code",
   "execution_count": 56,
   "id": "7dc34c38",
   "metadata": {},
   "outputs": [
    {
     "data": {
      "text/plain": [
       "406973.55555555556"
      ]
     },
     "execution_count": 56,
     "metadata": {},
     "output_type": "execute_result"
    }
   ],
   "source": [
    "target0_df.shape[0]/9"
   ]
  },
  {
   "cell_type": "code",
   "execution_count": 5,
   "id": "3f1a25cf",
   "metadata": {},
   "outputs": [
    {
     "name": "stdout",
     "output_type": "stream",
     "text": [
      "0    89.99999\n",
      "1    10.00001\n",
      "Name: target, dtype: float64\n"
     ]
    },
    {
     "data": {
      "image/png": "[encoded data removed]",
      "text/plain": [
       "<Figure size 432x288 with 1 Axes>"
      ]
     },
     "metadata": {
      "needs_background": "light"
     },
     "output_type": "display_data"
    }
   ],
   "source": [
    "target1_df10 = target1_df.sample(n=406974) # 10퍼센트\n",
    "df_10=pd.concat([target0_df,target1_df10],axis=0)\n",
    "df_10.target.value_counts().plot(kind='bar', title='Count (target)')\n",
    "print(df_10.target.value_counts(normalize=True)*100)"
   ]
  },
  {
   "cell_type": "code",
   "execution_count": 58,
   "id": "48c24922",
   "metadata": {},
   "outputs": [
    {
     "data": {
      "text/plain": [
       "0    3662762\n",
       "1     406974\n",
       "Name: target, dtype: int64"
      ]
     },
     "execution_count": 58,
     "metadata": {},
     "output_type": "execute_result"
    }
   ],
   "source": [
    "df_10.target.value_counts()"
   ]
  },
  {
   "cell_type": "code",
   "execution_count": 11,
   "id": "8d313c67",
   "metadata": {},
   "outputs": [],
   "source": [
    "X = df_10.drop(columns=['target']).values\n",
    "y = df_10[\"target\"].values"
   ]
  },
  {
   "cell_type": "code",
   "execution_count": 12,
   "id": "ed5e4d75",
   "metadata": {},
   "outputs": [],
   "source": [
    "X_train, X_test, y_train, y_test = train_test_split(X,y, test_size = 0.2, random_state = 0)"
   ]
  },
  {
   "cell_type": "code",
   "execution_count": 8,
   "id": "bcf536e2",
   "metadata": {
    "scrolled": true
   },
   "outputs": [],
   "source": [
    "#Training with imbalance data\n",
    "RF=RandomForestClassifier(random_state=0,n_jobs=-1)\n",
    "# RF.fit(X_train,y_train)\n",
    "# pred=pd.DataFrame(RF.predict(X_test))\n",
    "# pred"
   ]
  },
  {
   "cell_type": "code",
   "execution_count": 21,
   "id": "347eb4c8",
   "metadata": {},
   "outputs": [
    {
     "data": {
      "text/html": [
       "<div>\n",
       "<style scoped>\n",
       "    .dataframe tbody tr th:only-of-type {\n",
       "        vertical-align: middle;\n",
       "    }\n",
       "\n",
       "    .dataframe tbody tr th {\n",
       "        vertical-align: top;\n",
       "    }\n",
       "\n",
       "    .dataframe thead th {\n",
       "        text-align: right;\n",
       "    }\n",
       "</style>\n",
       "<table border=\"1\" class=\"dataframe\">\n",
       "  <thead>\n",
       "    <tr style=\"text-align: right;\">\n",
       "      <th></th>\n",
       "      <th>user_idx</th>\n",
       "      <th>song_idx</th>\n",
       "      <th>ssn_idx</th>\n",
       "      <th>sst_idx</th>\n",
       "      <th>st_idx</th>\n",
       "      <th>song_length</th>\n",
       "      <th>genr_idx</th>\n",
       "      <th>art_idx</th>\n",
       "      <th>com_idx</th>\n",
       "      <th>lyr_idx</th>\n",
       "      <th>...</th>\n",
       "      <th>lyricists_count</th>\n",
       "      <th>composer_count</th>\n",
       "      <th>is_featured</th>\n",
       "      <th>artist_count</th>\n",
       "      <th>artist_composer</th>\n",
       "      <th>artist_composer_lyricist</th>\n",
       "      <th>song_lang_boolean</th>\n",
       "      <th>smaller_song</th>\n",
       "      <th>count_song_played</th>\n",
       "      <th>count_artist_played</th>\n",
       "    </tr>\n",
       "  </thead>\n",
       "  <tbody>\n",
       "    <tr>\n",
       "      <th>12</th>\n",
       "      <td>3</td>\n",
       "      <td>12</td>\n",
       "      <td>2</td>\n",
       "      <td>1</td>\n",
       "      <td>3</td>\n",
       "      <td>280084</td>\n",
       "      <td>0</td>\n",
       "      <td>7</td>\n",
       "      <td>181</td>\n",
       "      <td>1794</td>\n",
       "      <td>...</td>\n",
       "      <td>0</td>\n",
       "      <td>1</td>\n",
       "      <td>0</td>\n",
       "      <td>0</td>\n",
       "      <td>0</td>\n",
       "      <td>0</td>\n",
       "      <td>0</td>\n",
       "      <td>0</td>\n",
       "      <td>5740</td>\n",
       "      <td>115325</td>\n",
       "    </tr>\n",
       "    <tr>\n",
       "      <th>18</th>\n",
       "      <td>3</td>\n",
       "      <td>18</td>\n",
       "      <td>2</td>\n",
       "      <td>1</td>\n",
       "      <td>3</td>\n",
       "      <td>265743</td>\n",
       "      <td>0</td>\n",
       "      <td>7</td>\n",
       "      <td>8</td>\n",
       "      <td>23217</td>\n",
       "      <td>...</td>\n",
       "      <td>0</td>\n",
       "      <td>1</td>\n",
       "      <td>0</td>\n",
       "      <td>0</td>\n",
       "      <td>0</td>\n",
       "      <td>0</td>\n",
       "      <td>0</td>\n",
       "      <td>0</td>\n",
       "      <td>2284</td>\n",
       "      <td>115325</td>\n",
       "    </tr>\n",
       "    <tr>\n",
       "      <th>24</th>\n",
       "      <td>6</td>\n",
       "      <td>24</td>\n",
       "      <td>4</td>\n",
       "      <td>1</td>\n",
       "      <td>0</td>\n",
       "      <td>292060</td>\n",
       "      <td>14</td>\n",
       "      <td>2338</td>\n",
       "      <td>308</td>\n",
       "      <td>2</td>\n",
       "      <td>...</td>\n",
       "      <td>0</td>\n",
       "      <td>2</td>\n",
       "      <td>0</td>\n",
       "      <td>0</td>\n",
       "      <td>0</td>\n",
       "      <td>0</td>\n",
       "      <td>0</td>\n",
       "      <td>0</td>\n",
       "      <td>6</td>\n",
       "      <td>715</td>\n",
       "    </tr>\n",
       "    <tr>\n",
       "      <th>25</th>\n",
       "      <td>6</td>\n",
       "      <td>25</td>\n",
       "      <td>4</td>\n",
       "      <td>1</td>\n",
       "      <td>0</td>\n",
       "      <td>131239</td>\n",
       "      <td>14</td>\n",
       "      <td>1693</td>\n",
       "      <td>308</td>\n",
       "      <td>2</td>\n",
       "      <td>...</td>\n",
       "      <td>0</td>\n",
       "      <td>2</td>\n",
       "      <td>0</td>\n",
       "      <td>0</td>\n",
       "      <td>0</td>\n",
       "      <td>0</td>\n",
       "      <td>0</td>\n",
       "      <td>1</td>\n",
       "      <td>1</td>\n",
       "      <td>1768</td>\n",
       "    </tr>\n",
       "    <tr>\n",
       "      <th>26</th>\n",
       "      <td>6</td>\n",
       "      <td>26</td>\n",
       "      <td>4</td>\n",
       "      <td>1</td>\n",
       "      <td>0</td>\n",
       "      <td>307200</td>\n",
       "      <td>0</td>\n",
       "      <td>90069</td>\n",
       "      <td>2</td>\n",
       "      <td>2</td>\n",
       "      <td>...</td>\n",
       "      <td>0</td>\n",
       "      <td>1</td>\n",
       "      <td>0</td>\n",
       "      <td>0</td>\n",
       "      <td>0</td>\n",
       "      <td>0</td>\n",
       "      <td>0</td>\n",
       "      <td>0</td>\n",
       "      <td>1</td>\n",
       "      <td>1</td>\n",
       "    </tr>\n",
       "    <tr>\n",
       "      <th>...</th>\n",
       "      <td>...</td>\n",
       "      <td>...</td>\n",
       "      <td>...</td>\n",
       "      <td>...</td>\n",
       "      <td>...</td>\n",
       "      <td>...</td>\n",
       "      <td>...</td>\n",
       "      <td>...</td>\n",
       "      <td>...</td>\n",
       "      <td>...</td>\n",
       "      <td>...</td>\n",
       "      <td>...</td>\n",
       "      <td>...</td>\n",
       "      <td>...</td>\n",
       "      <td>...</td>\n",
       "      <td>...</td>\n",
       "      <td>...</td>\n",
       "      <td>...</td>\n",
       "      <td>...</td>\n",
       "      <td>...</td>\n",
       "      <td>...</td>\n",
       "    </tr>\n",
       "    <tr>\n",
       "      <th>7005555</th>\n",
       "      <td>23000</td>\n",
       "      <td>110176</td>\n",
       "      <td>1</td>\n",
       "      <td>1</td>\n",
       "      <td>2</td>\n",
       "      <td>91371</td>\n",
       "      <td>18</td>\n",
       "      <td>5125</td>\n",
       "      <td>2</td>\n",
       "      <td>2</td>\n",
       "      <td>...</td>\n",
       "      <td>0</td>\n",
       "      <td>1</td>\n",
       "      <td>0</td>\n",
       "      <td>0</td>\n",
       "      <td>0</td>\n",
       "      <td>0</td>\n",
       "      <td>0</td>\n",
       "      <td>1</td>\n",
       "      <td>25</td>\n",
       "      <td>6062</td>\n",
       "    </tr>\n",
       "    <tr>\n",
       "      <th>3863475</th>\n",
       "      <td>9548</td>\n",
       "      <td>147052</td>\n",
       "      <td>1</td>\n",
       "      <td>1</td>\n",
       "      <td>2</td>\n",
       "      <td>249469</td>\n",
       "      <td>7</td>\n",
       "      <td>14010</td>\n",
       "      <td>2</td>\n",
       "      <td>2</td>\n",
       "      <td>...</td>\n",
       "      <td>0</td>\n",
       "      <td>1</td>\n",
       "      <td>0</td>\n",
       "      <td>0</td>\n",
       "      <td>0</td>\n",
       "      <td>0</td>\n",
       "      <td>0</td>\n",
       "      <td>0</td>\n",
       "      <td>6</td>\n",
       "      <td>207</td>\n",
       "    </tr>\n",
       "    <tr>\n",
       "      <th>453975</th>\n",
       "      <td>2497</td>\n",
       "      <td>405</td>\n",
       "      <td>4</td>\n",
       "      <td>3</td>\n",
       "      <td>0</td>\n",
       "      <td>232333</td>\n",
       "      <td>0</td>\n",
       "      <td>1092</td>\n",
       "      <td>2082</td>\n",
       "      <td>24097</td>\n",
       "      <td>...</td>\n",
       "      <td>1</td>\n",
       "      <td>1</td>\n",
       "      <td>0</td>\n",
       "      <td>0</td>\n",
       "      <td>0</td>\n",
       "      <td>0</td>\n",
       "      <td>0</td>\n",
       "      <td>1</td>\n",
       "      <td>7133</td>\n",
       "      <td>57040</td>\n",
       "    </tr>\n",
       "    <tr>\n",
       "      <th>214108</th>\n",
       "      <td>8400</td>\n",
       "      <td>323</td>\n",
       "      <td>1</td>\n",
       "      <td>1</td>\n",
       "      <td>2</td>\n",
       "      <td>298945</td>\n",
       "      <td>0</td>\n",
       "      <td>11646</td>\n",
       "      <td>12803</td>\n",
       "      <td>6022</td>\n",
       "      <td>...</td>\n",
       "      <td>0</td>\n",
       "      <td>1</td>\n",
       "      <td>0</td>\n",
       "      <td>0</td>\n",
       "      <td>0</td>\n",
       "      <td>0</td>\n",
       "      <td>0</td>\n",
       "      <td>0</td>\n",
       "      <td>7268</td>\n",
       "      <td>12727</td>\n",
       "    </tr>\n",
       "    <tr>\n",
       "      <th>64233</th>\n",
       "      <td>4997</td>\n",
       "      <td>21601</td>\n",
       "      <td>1</td>\n",
       "      <td>1</td>\n",
       "      <td>2</td>\n",
       "      <td>232849</td>\n",
       "      <td>0</td>\n",
       "      <td>3779</td>\n",
       "      <td>106</td>\n",
       "      <td>2</td>\n",
       "      <td>...</td>\n",
       "      <td>0</td>\n",
       "      <td>1</td>\n",
       "      <td>0</td>\n",
       "      <td>0</td>\n",
       "      <td>0</td>\n",
       "      <td>0</td>\n",
       "      <td>0</td>\n",
       "      <td>1</td>\n",
       "      <td>2</td>\n",
       "      <td>118</td>\n",
       "    </tr>\n",
       "  </tbody>\n",
       "</table>\n",
       "<p>4069736 rows × 29 columns</p>\n",
       "</div>"
      ],
      "text/plain": [
       "         user_idx  song_idx  ssn_idx  sst_idx  st_idx  song_length  genr_idx  \\\n",
       "12              3        12        2        1       3       280084         0   \n",
       "18              3        18        2        1       3       265743         0   \n",
       "24              6        24        4        1       0       292060        14   \n",
       "25              6        25        4        1       0       131239        14   \n",
       "26              6        26        4        1       0       307200         0   \n",
       "...           ...       ...      ...      ...     ...          ...       ...   \n",
       "7005555     23000    110176        1        1       2        91371        18   \n",
       "3863475      9548    147052        1        1       2       249469         7   \n",
       "453975       2497       405        4        3       0       232333         0   \n",
       "214108       8400       323        1        1       2       298945         0   \n",
       "64233        4997     21601        1        1       2       232849         0   \n",
       "\n",
       "         art_idx  com_idx  lyr_idx  ...  lyricists_count  composer_count  \\\n",
       "12             7      181     1794  ...                0               1   \n",
       "18             7        8    23217  ...                0               1   \n",
       "24          2338      308        2  ...                0               2   \n",
       "25          1693      308        2  ...                0               2   \n",
       "26         90069        2        2  ...                0               1   \n",
       "...          ...      ...      ...  ...              ...             ...   \n",
       "7005555     5125        2        2  ...                0               1   \n",
       "3863475    14010        2        2  ...                0               1   \n",
       "453975      1092     2082    24097  ...                1               1   \n",
       "214108     11646    12803     6022  ...                0               1   \n",
       "64233       3779      106        2  ...                0               1   \n",
       "\n",
       "         is_featured  artist_count  artist_composer  artist_composer_lyricist  \\\n",
       "12                 0             0                0                         0   \n",
       "18                 0             0                0                         0   \n",
       "24                 0             0                0                         0   \n",
       "25                 0             0                0                         0   \n",
       "26                 0             0                0                         0   \n",
       "...              ...           ...              ...                       ...   \n",
       "7005555            0             0                0                         0   \n",
       "3863475            0             0                0                         0   \n",
       "453975             0             0                0                         0   \n",
       "214108             0             0                0                         0   \n",
       "64233              0             0                0                         0   \n",
       "\n",
       "         song_lang_boolean  smaller_song  count_song_played  \\\n",
       "12                       0             0               5740   \n",
       "18                       0             0               2284   \n",
       "24                       0             0                  6   \n",
       "25                       0             1                  1   \n",
       "26                       0             0                  1   \n",
       "...                    ...           ...                ...   \n",
       "7005555                  0             1                 25   \n",
       "3863475                  0             0                  6   \n",
       "453975                   0             1               7133   \n",
       "214108                   0             0               7268   \n",
       "64233                    0             1                  2   \n",
       "\n",
       "         count_artist_played  \n",
       "12                    115325  \n",
       "18                    115325  \n",
       "24                       715  \n",
       "25                      1768  \n",
       "26                         1  \n",
       "...                      ...  \n",
       "7005555                 6062  \n",
       "3863475                  207  \n",
       "453975                 57040  \n",
       "214108                 12727  \n",
       "64233                    118  \n",
       "\n",
       "[4069736 rows x 29 columns]"
      ]
     },
     "execution_count": 21,
     "metadata": {},
     "output_type": "execute_result"
    }
   ],
   "source": [
    "X"
   ]
  },
  {
   "cell_type": "code",
   "execution_count": 42,
   "id": "e90c6832",
   "metadata": {},
   "outputs": [
    {
     "name": "stdout",
     "output_type": "stream",
     "text": [
      "Collecting mglearn\n",
      "  Downloading mglearn-0.1.9.tar.gz (540 kB)\n",
      "\u001b[K     |████████████████████████████████| 540 kB 1.2 MB/s eta 0:00:01\n",
      "\u001b[?25hRequirement already satisfied: numpy in /opt/anaconda3/lib/python3.8/site-packages (from mglearn) (1.20.1)\n",
      "Requirement already satisfied: matplotlib in /opt/anaconda3/lib/python3.8/site-packages (from mglearn) (3.3.4)\n",
      "Requirement already satisfied: scikit-learn in /opt/anaconda3/lib/python3.8/site-packages (from mglearn) (0.24.1)\n",
      "Requirement already satisfied: pandas in /opt/anaconda3/lib/python3.8/site-packages (from mglearn) (1.2.4)\n",
      "Requirement already satisfied: pillow in /opt/anaconda3/lib/python3.8/site-packages (from mglearn) (8.2.0)\n",
      "Requirement already satisfied: cycler in /opt/anaconda3/lib/python3.8/site-packages (from mglearn) (0.10.0)\n",
      "Requirement already satisfied: imageio in /opt/anaconda3/lib/python3.8/site-packages (from mglearn) (2.9.0)\n",
      "Requirement already satisfied: joblib in /opt/anaconda3/lib/python3.8/site-packages (from mglearn) (1.0.1)\n",
      "Requirement already satisfied: six in /opt/anaconda3/lib/python3.8/site-packages (from cycler->mglearn) (1.15.0)\n",
      "Requirement already satisfied: python-dateutil>=2.1 in /opt/anaconda3/lib/python3.8/site-packages (from matplotlib->mglearn) (2.8.1)\n",
      "Requirement already satisfied: kiwisolver>=1.0.1 in /opt/anaconda3/lib/python3.8/site-packages (from matplotlib->mglearn) (1.3.1)\n",
      "Requirement already satisfied: pyparsing!=2.0.4,!=2.1.2,!=2.1.6,>=2.0.3 in /opt/anaconda3/lib/python3.8/site-packages (from matplotlib->mglearn) (2.4.7)\n",
      "Requirement already satisfied: pytz>=2017.3 in /opt/anaconda3/lib/python3.8/site-packages (from pandas->mglearn) (2021.1)\n",
      "Requirement already satisfied: threadpoolctl>=2.0.0 in /opt/anaconda3/lib/python3.8/site-packages (from scikit-learn->mglearn) (2.1.0)\n",
      "Requirement already satisfied: scipy>=0.19.1 in /opt/anaconda3/lib/python3.8/site-packages (from scikit-learn->mglearn) (1.6.2)\n",
      "Building wheels for collected packages: mglearn\n",
      "  Building wheel for mglearn (setup.py) ... \u001b[?25ldone\n",
      "\u001b[?25h  Created wheel for mglearn: filename=mglearn-0.1.9-py2.py3-none-any.whl size=582638 sha256=68a4a0894b2d8d291ce92cf951cfb9d9a3eaba80348064a071216fd5bb1a15f2\n",
      "  Stored in directory: /Users/hyunji/Library/Caches/pip/wheels/87/75/37/404e66d0c4bad150f101c9a0914b11a8eccc2681559936e7f7\n",
      "Successfully built mglearn\n",
      "Installing collected packages: mglearn\n",
      "Successfully installed mglearn-0.1.9\n",
      "Note: you may need to restart the kernel to use updated packages.\n"
     ]
    }
   ],
   "source": [
    "pip install mglearn"
   ]
  },
  {
   "cell_type": "code",
   "execution_count": 16,
   "id": "3691a03c",
   "metadata": {},
   "outputs": [
    {
     "ename": "MemoryError",
     "evalue": "Unable to allocate 806. TiB for an array with shape (35996700, 3075800) and data type float64",
     "output_type": "error",
     "traceback": [
      "\u001b[0;31m---------------------------------------------------------------------------\u001b[0m",
      "\u001b[0;31mMemoryError\u001b[0m                               Traceback (most recent call last)",
      "\u001b[0;32m<ipython-input-16-d03b23401906>\u001b[0m in \u001b[0;36m<module>\u001b[0;34m\u001b[0m\n\u001b[1;32m      1\u001b[0m \u001b[0;32mfrom\u001b[0m \u001b[0mmatplotlib\u001b[0m\u001b[0;34m.\u001b[0m\u001b[0mcolors\u001b[0m \u001b[0;32mimport\u001b[0m \u001b[0mListedColormap\u001b[0m\u001b[0;34m\u001b[0m\u001b[0;34m\u001b[0m\u001b[0m\n\u001b[1;32m      2\u001b[0m \u001b[0mX_set\u001b[0m\u001b[0;34m,\u001b[0m \u001b[0my_set\u001b[0m \u001b[0;34m=\u001b[0m \u001b[0mX_test\u001b[0m\u001b[0;34m,\u001b[0m \u001b[0my_test\u001b[0m\u001b[0;34m\u001b[0m\u001b[0;34m\u001b[0m\u001b[0m\n\u001b[0;32m----> 3\u001b[0;31m X1, X2 = np.meshgrid(np.arange(start = X_set[:, 0].min() - 2, stop = X_set[:, 0].max() + 2, step = 0.01),\n\u001b[0m\u001b[1;32m      4\u001b[0m                      np.arange(start = X_set[:, 1].min() - 2, stop = X_set[:, 1].max() + 2, step = 0.01))\n\u001b[1;32m      5\u001b[0m plt.contourf(X1, X2, classifier.predict(np.array([X1.ravel(), X2.ravel()]).T).reshape(X1.shape),\n",
      "\u001b[0;32m<__array_function__ internals>\u001b[0m in \u001b[0;36mmeshgrid\u001b[0;34m(*args, **kwargs)\u001b[0m\n",
      "\u001b[0;32m/opt/anaconda3/lib/python3.8/site-packages/numpy/lib/function_base.py\u001b[0m in \u001b[0;36mmeshgrid\u001b[0;34m(copy, sparse, indexing, *xi)\u001b[0m\n\u001b[1;32m   4299\u001b[0m \u001b[0;34m\u001b[0m\u001b[0m\n\u001b[1;32m   4300\u001b[0m     \u001b[0;32mif\u001b[0m \u001b[0mcopy\u001b[0m\u001b[0;34m:\u001b[0m\u001b[0;34m\u001b[0m\u001b[0;34m\u001b[0m\u001b[0m\n\u001b[0;32m-> 4301\u001b[0;31m         \u001b[0moutput\u001b[0m \u001b[0;34m=\u001b[0m \u001b[0;34m[\u001b[0m\u001b[0mx\u001b[0m\u001b[0;34m.\u001b[0m\u001b[0mcopy\u001b[0m\u001b[0;34m(\u001b[0m\u001b[0;34m)\u001b[0m \u001b[0;32mfor\u001b[0m \u001b[0mx\u001b[0m \u001b[0;32min\u001b[0m \u001b[0moutput\u001b[0m\u001b[0;34m]\u001b[0m\u001b[0;34m\u001b[0m\u001b[0;34m\u001b[0m\u001b[0m\n\u001b[0m\u001b[1;32m   4302\u001b[0m \u001b[0;34m\u001b[0m\u001b[0m\n\u001b[1;32m   4303\u001b[0m     \u001b[0;32mreturn\u001b[0m \u001b[0moutput\u001b[0m\u001b[0;34m\u001b[0m\u001b[0;34m\u001b[0m\u001b[0m\n",
      "\u001b[0;32m/opt/anaconda3/lib/python3.8/site-packages/numpy/lib/function_base.py\u001b[0m in \u001b[0;36m<listcomp>\u001b[0;34m(.0)\u001b[0m\n\u001b[1;32m   4299\u001b[0m \u001b[0;34m\u001b[0m\u001b[0m\n\u001b[1;32m   4300\u001b[0m     \u001b[0;32mif\u001b[0m \u001b[0mcopy\u001b[0m\u001b[0;34m:\u001b[0m\u001b[0;34m\u001b[0m\u001b[0;34m\u001b[0m\u001b[0m\n\u001b[0;32m-> 4301\u001b[0;31m         \u001b[0moutput\u001b[0m \u001b[0;34m=\u001b[0m \u001b[0;34m[\u001b[0m\u001b[0mx\u001b[0m\u001b[0;34m.\u001b[0m\u001b[0mcopy\u001b[0m\u001b[0;34m(\u001b[0m\u001b[0;34m)\u001b[0m \u001b[0;32mfor\u001b[0m \u001b[0mx\u001b[0m \u001b[0;32min\u001b[0m \u001b[0moutput\u001b[0m\u001b[0;34m]\u001b[0m\u001b[0;34m\u001b[0m\u001b[0;34m\u001b[0m\u001b[0m\n\u001b[0m\u001b[1;32m   4302\u001b[0m \u001b[0;34m\u001b[0m\u001b[0m\n\u001b[1;32m   4303\u001b[0m     \u001b[0;32mreturn\u001b[0m \u001b[0moutput\u001b[0m\u001b[0;34m\u001b[0m\u001b[0;34m\u001b[0m\u001b[0m\n",
      "\u001b[0;31mMemoryError\u001b[0m: Unable to allocate 806. TiB for an array with shape (35996700, 3075800) and data type float64"
     ]
    }
   ],
   "source": [
    "from matplotlib.colors import ListedColormap\n",
    "X_set, y_set = X_test, y_test\n",
    "X1, X2 = np.meshgrid(np.arange(start = X_set[:, 0].min() - 2, stop = X_set[:, 0].max() + 2, step = 0.01),\n",
    "                     np.arange(start = X_set[:, 1].min() - 2, stop = X_set[:, 1].max() + 2, step = 0.01))\n",
    "plt.contourf(X1, X2, classifier.predict(np.array([X1.ravel(), X2.ravel()]).T).reshape(X1.shape),\n",
    "             alpha = 0.75, cmap = ListedColormap(('red', 'green')))\n",
    "plt.xlim(X1.min(), X1.max())\n",
    "plt.ylim(X2.min(), X2.max())\n",
    "for i, j in enumerate(np.unique(y_set)):\n",
    "    plt.scatter(X_set[y_set == j, 0], X_set[y_set == j, 1],\n",
    "                c = ListedColormap(('red', 'green'))(i), label = j)\n",
    "plt.title('SVM Classification')\n",
    "plt.xlabel('Age')\n",
    "plt.ylabel('EstimatedSalary')\n",
    "plt.legend()\n",
    "plt.show()"
   ]
  },
  {
   "cell_type": "code",
   "execution_count": 62,
   "id": "e3f6b28b",
   "metadata": {},
   "outputs": [
    {
     "ename": "NotFittedError",
     "evalue": "This RandomForestClassifier instance is not fitted yet. Call 'fit' with appropriate arguments before using this estimator.",
     "output_type": "error",
     "traceback": [
      "\u001b[0;31m---------------------------------------------------------------------------\u001b[0m",
      "\u001b[0;31mNotFittedError\u001b[0m                            Traceback (most recent call last)",
      "\u001b[0;32m<ipython-input-62-48cb23b9940a>\u001b[0m in \u001b[0;36m<module>\u001b[0;34m\u001b[0m\n\u001b[1;32m      1\u001b[0m \u001b[0;31m# 레이블 값이 1일때의 예측 확률을 추출\u001b[0m\u001b[0;34m\u001b[0m\u001b[0;34m\u001b[0m\u001b[0;34m\u001b[0m\u001b[0m\n\u001b[0;32m----> 2\u001b[0;31m \u001b[0mpred_proba\u001b[0m\u001b[0;34m=\u001b[0m\u001b[0mpd\u001b[0m\u001b[0;34m.\u001b[0m\u001b[0mDataFrame\u001b[0m\u001b[0;34m(\u001b[0m\u001b[0mRF\u001b[0m\u001b[0;34m.\u001b[0m\u001b[0mpredict_proba\u001b[0m\u001b[0;34m(\u001b[0m\u001b[0mX_test\u001b[0m\u001b[0;34m)\u001b[0m\u001b[0;34m[\u001b[0m\u001b[0;34m:\u001b[0m\u001b[0;34m,\u001b[0m \u001b[0;36m1\u001b[0m\u001b[0;34m]\u001b[0m\u001b[0;34m)\u001b[0m\u001b[0;34m\u001b[0m\u001b[0;34m\u001b[0m\u001b[0m\n\u001b[0m\u001b[1;32m      3\u001b[0m \u001b[0mpred_proba\u001b[0m\u001b[0;34m\u001b[0m\u001b[0;34m\u001b[0m\u001b[0m\n",
      "\u001b[0;32m/opt/anaconda3/lib/python3.8/site-packages/sklearn/ensemble/_forest.py\u001b[0m in \u001b[0;36mpredict_proba\u001b[0;34m(self, X)\u001b[0m\n\u001b[1;32m    670\u001b[0m             \u001b[0mclasses\u001b[0m \u001b[0mcorresponds\u001b[0m \u001b[0mto\u001b[0m \u001b[0mthat\u001b[0m \u001b[0;32min\u001b[0m \u001b[0mthe\u001b[0m \u001b[0mattribute\u001b[0m \u001b[0;34m:\u001b[0m\u001b[0mterm\u001b[0m\u001b[0;34m:\u001b[0m\u001b[0;31m`\u001b[0m\u001b[0mclasses_\u001b[0m\u001b[0;31m`\u001b[0m\u001b[0;34m.\u001b[0m\u001b[0;34m\u001b[0m\u001b[0;34m\u001b[0m\u001b[0m\n\u001b[1;32m    671\u001b[0m         \"\"\"\n\u001b[0;32m--> 672\u001b[0;31m         \u001b[0mcheck_is_fitted\u001b[0m\u001b[0;34m(\u001b[0m\u001b[0mself\u001b[0m\u001b[0;34m)\u001b[0m\u001b[0;34m\u001b[0m\u001b[0;34m\u001b[0m\u001b[0m\n\u001b[0m\u001b[1;32m    673\u001b[0m         \u001b[0;31m# Check data\u001b[0m\u001b[0;34m\u001b[0m\u001b[0;34m\u001b[0m\u001b[0;34m\u001b[0m\u001b[0m\n\u001b[1;32m    674\u001b[0m         \u001b[0mX\u001b[0m \u001b[0;34m=\u001b[0m \u001b[0mself\u001b[0m\u001b[0;34m.\u001b[0m\u001b[0m_validate_X_predict\u001b[0m\u001b[0;34m(\u001b[0m\u001b[0mX\u001b[0m\u001b[0;34m)\u001b[0m\u001b[0;34m\u001b[0m\u001b[0;34m\u001b[0m\u001b[0m\n",
      "\u001b[0;32m/opt/anaconda3/lib/python3.8/site-packages/sklearn/utils/validation.py\u001b[0m in \u001b[0;36minner_f\u001b[0;34m(*args, **kwargs)\u001b[0m\n\u001b[1;32m     61\u001b[0m             \u001b[0mextra_args\u001b[0m \u001b[0;34m=\u001b[0m \u001b[0mlen\u001b[0m\u001b[0;34m(\u001b[0m\u001b[0margs\u001b[0m\u001b[0;34m)\u001b[0m \u001b[0;34m-\u001b[0m \u001b[0mlen\u001b[0m\u001b[0;34m(\u001b[0m\u001b[0mall_args\u001b[0m\u001b[0;34m)\u001b[0m\u001b[0;34m\u001b[0m\u001b[0;34m\u001b[0m\u001b[0m\n\u001b[1;32m     62\u001b[0m             \u001b[0;32mif\u001b[0m \u001b[0mextra_args\u001b[0m \u001b[0;34m<=\u001b[0m \u001b[0;36m0\u001b[0m\u001b[0;34m:\u001b[0m\u001b[0;34m\u001b[0m\u001b[0;34m\u001b[0m\u001b[0m\n\u001b[0;32m---> 63\u001b[0;31m                 \u001b[0;32mreturn\u001b[0m \u001b[0mf\u001b[0m\u001b[0;34m(\u001b[0m\u001b[0;34m*\u001b[0m\u001b[0margs\u001b[0m\u001b[0;34m,\u001b[0m \u001b[0;34m**\u001b[0m\u001b[0mkwargs\u001b[0m\u001b[0;34m)\u001b[0m\u001b[0;34m\u001b[0m\u001b[0;34m\u001b[0m\u001b[0m\n\u001b[0m\u001b[1;32m     64\u001b[0m \u001b[0;34m\u001b[0m\u001b[0m\n\u001b[1;32m     65\u001b[0m             \u001b[0;31m# extra_args > 0\u001b[0m\u001b[0;34m\u001b[0m\u001b[0;34m\u001b[0m\u001b[0;34m\u001b[0m\u001b[0m\n",
      "\u001b[0;32m/opt/anaconda3/lib/python3.8/site-packages/sklearn/utils/validation.py\u001b[0m in \u001b[0;36mcheck_is_fitted\u001b[0;34m(estimator, attributes, msg, all_or_any)\u001b[0m\n\u001b[1;32m   1039\u001b[0m \u001b[0;34m\u001b[0m\u001b[0m\n\u001b[1;32m   1040\u001b[0m     \u001b[0;32mif\u001b[0m \u001b[0;32mnot\u001b[0m \u001b[0mattrs\u001b[0m\u001b[0;34m:\u001b[0m\u001b[0;34m\u001b[0m\u001b[0;34m\u001b[0m\u001b[0m\n\u001b[0;32m-> 1041\u001b[0;31m         \u001b[0;32mraise\u001b[0m \u001b[0mNotFittedError\u001b[0m\u001b[0;34m(\u001b[0m\u001b[0mmsg\u001b[0m \u001b[0;34m%\u001b[0m \u001b[0;34m{\u001b[0m\u001b[0;34m'name'\u001b[0m\u001b[0;34m:\u001b[0m \u001b[0mtype\u001b[0m\u001b[0;34m(\u001b[0m\u001b[0mestimator\u001b[0m\u001b[0;34m)\u001b[0m\u001b[0;34m.\u001b[0m\u001b[0m__name__\u001b[0m\u001b[0;34m}\u001b[0m\u001b[0;34m)\u001b[0m\u001b[0;34m\u001b[0m\u001b[0;34m\u001b[0m\u001b[0m\n\u001b[0m\u001b[1;32m   1042\u001b[0m \u001b[0;34m\u001b[0m\u001b[0m\n\u001b[1;32m   1043\u001b[0m \u001b[0;34m\u001b[0m\u001b[0m\n",
      "\u001b[0;31mNotFittedError\u001b[0m: This RandomForestClassifier instance is not fitted yet. Call 'fit' with appropriate arguments before using this estimator."
     ]
    }
   ],
   "source": [
    "# 레이블 값이 1일때의 예측 확률을 추출 \n",
    "pred_proba=pd.DataFrame(RF.predict_proba(X_test)[:, 1])\n",
    "pred_proba"
   ]
  },
  {
   "cell_type": "code",
   "execution_count": 31,
   "id": "c9643e88",
   "metadata": {},
   "outputs": [
    {
     "name": "stdout",
     "output_type": "stream",
     "text": [
      "accuracy: 0.8988940325426195\n",
      "roc-auc-score: 0.7180400223671922\n",
      "recall: 0.029113033605252442\n",
      "precision: 0.3942179144385027\n",
      "f1-score: 0.05422178295197269\n"
     ]
    }
   ],
   "source": [
    "#imbalance data with Accuracy\n",
    "print(\"accuracy:\", accuracy_score(y_test, pred))\n",
    "#imbalance data with ROC-AUC\n",
    "# print(\"roc-auc-score:\",roc_auc_score(y_test,pred))\n",
    "print(\"roc-auc-score:\",roc_auc_score(y_test,pred_proba))\n",
    "#imbalance data with Recall\n",
    "print(\"recall:\",recall_score(y_test, pred))\n",
    "#imbalance data with Precision\n",
    "print(\"precision:\",precision_score(y_test, pred))\n",
    "#imbalance data with F1-score\n",
    "print(\"f1-score:\",f1_score(y_test, pred))"
   ]
  },
  {
   "cell_type": "markdown",
   "id": "ec2d00b2",
   "metadata": {},
   "source": [
    "# SMOTE"
   ]
  },
  {
   "cell_type": "code",
   "execution_count": 32,
   "id": "795ec80b",
   "metadata": {
    "scrolled": true
   },
   "outputs": [
    {
     "data": {
      "text/html": [
       "<div>\n",
       "<style scoped>\n",
       "    .dataframe tbody tr th:only-of-type {\n",
       "        vertical-align: middle;\n",
       "    }\n",
       "\n",
       "    .dataframe tbody tr th {\n",
       "        vertical-align: top;\n",
       "    }\n",
       "\n",
       "    .dataframe thead th {\n",
       "        text-align: right;\n",
       "    }\n",
       "</style>\n",
       "<table border=\"1\" class=\"dataframe\">\n",
       "  <thead>\n",
       "    <tr style=\"text-align: right;\">\n",
       "      <th></th>\n",
       "      <th>0</th>\n",
       "    </tr>\n",
       "  </thead>\n",
       "  <tbody>\n",
       "    <tr>\n",
       "      <th>0</th>\n",
       "      <td>0</td>\n",
       "    </tr>\n",
       "    <tr>\n",
       "      <th>1</th>\n",
       "      <td>0</td>\n",
       "    </tr>\n",
       "    <tr>\n",
       "      <th>2</th>\n",
       "      <td>0</td>\n",
       "    </tr>\n",
       "    <tr>\n",
       "      <th>3</th>\n",
       "      <td>0</td>\n",
       "    </tr>\n",
       "    <tr>\n",
       "      <th>4</th>\n",
       "      <td>0</td>\n",
       "    </tr>\n",
       "    <tr>\n",
       "      <th>...</th>\n",
       "      <td>...</td>\n",
       "    </tr>\n",
       "    <tr>\n",
       "      <th>813943</th>\n",
       "      <td>0</td>\n",
       "    </tr>\n",
       "    <tr>\n",
       "      <th>813944</th>\n",
       "      <td>0</td>\n",
       "    </tr>\n",
       "    <tr>\n",
       "      <th>813945</th>\n",
       "      <td>0</td>\n",
       "    </tr>\n",
       "    <tr>\n",
       "      <th>813946</th>\n",
       "      <td>0</td>\n",
       "    </tr>\n",
       "    <tr>\n",
       "      <th>813947</th>\n",
       "      <td>0</td>\n",
       "    </tr>\n",
       "  </tbody>\n",
       "</table>\n",
       "<p>813948 rows × 1 columns</p>\n",
       "</div>"
      ],
      "text/plain": [
       "        0\n",
       "0       0\n",
       "1       0\n",
       "2       0\n",
       "3       0\n",
       "4       0\n",
       "...    ..\n",
       "813943  0\n",
       "813944  0\n",
       "813945  0\n",
       "813946  0\n",
       "813947  0\n",
       "\n",
       "[813948 rows x 1 columns]"
      ]
     },
     "execution_count": 32,
     "metadata": {},
     "output_type": "execute_result"
    }
   ],
   "source": [
    "#importing SMOTE\n",
    "from imblearn.over_sampling import *\n",
    "#Oversampling the data\n",
    "#Training with oversampled data\n",
    "RF=RandomForestClassifier(random_state=0,n_jobs=-1)\n",
    "X_sm, y_sm = SMOTE(random_state=0,k_neighbors=5,n_jobs=-1).fit_resample(X_train, y_train)\n",
    "RF.fit(X_sm,y_sm)\n",
    "pred_sm=pd.DataFrame(RF.predict(X_test))\n",
    "pred_sm"
   ]
  },
  {
   "cell_type": "code",
   "execution_count": 37,
   "id": "b3981305",
   "metadata": {},
   "outputs": [
    {
     "name": "stdout",
     "output_type": "stream",
     "text": [
      "Resampled dataset shape Counter({0: 2929843, 1: 2929843})\n"
     ]
    }
   ],
   "source": [
    "print('Resampled dataset shape %s' % Counter(y_sm))"
   ]
  },
  {
   "cell_type": "code",
   "execution_count": 33,
   "id": "5e7c6235",
   "metadata": {},
   "outputs": [
    {
     "data": {
      "text/html": [
       "<div>\n",
       "<style scoped>\n",
       "    .dataframe tbody tr th:only-of-type {\n",
       "        vertical-align: middle;\n",
       "    }\n",
       "\n",
       "    .dataframe tbody tr th {\n",
       "        vertical-align: top;\n",
       "    }\n",
       "\n",
       "    .dataframe thead th {\n",
       "        text-align: right;\n",
       "    }\n",
       "</style>\n",
       "<table border=\"1\" class=\"dataframe\">\n",
       "  <thead>\n",
       "    <tr style=\"text-align: right;\">\n",
       "      <th></th>\n",
       "      <th>0</th>\n",
       "    </tr>\n",
       "  </thead>\n",
       "  <tbody>\n",
       "    <tr>\n",
       "      <th>0</th>\n",
       "      <td>0.06</td>\n",
       "    </tr>\n",
       "    <tr>\n",
       "      <th>1</th>\n",
       "      <td>0.23</td>\n",
       "    </tr>\n",
       "    <tr>\n",
       "      <th>2</th>\n",
       "      <td>0.13</td>\n",
       "    </tr>\n",
       "    <tr>\n",
       "      <th>3</th>\n",
       "      <td>0.15</td>\n",
       "    </tr>\n",
       "    <tr>\n",
       "      <th>4</th>\n",
       "      <td>0.29</td>\n",
       "    </tr>\n",
       "    <tr>\n",
       "      <th>...</th>\n",
       "      <td>...</td>\n",
       "    </tr>\n",
       "    <tr>\n",
       "      <th>813943</th>\n",
       "      <td>0.49</td>\n",
       "    </tr>\n",
       "    <tr>\n",
       "      <th>813944</th>\n",
       "      <td>0.01</td>\n",
       "    </tr>\n",
       "    <tr>\n",
       "      <th>813945</th>\n",
       "      <td>0.20</td>\n",
       "    </tr>\n",
       "    <tr>\n",
       "      <th>813946</th>\n",
       "      <td>0.44</td>\n",
       "    </tr>\n",
       "    <tr>\n",
       "      <th>813947</th>\n",
       "      <td>0.02</td>\n",
       "    </tr>\n",
       "  </tbody>\n",
       "</table>\n",
       "<p>813948 rows × 1 columns</p>\n",
       "</div>"
      ],
      "text/plain": [
       "           0\n",
       "0       0.06\n",
       "1       0.23\n",
       "2       0.13\n",
       "3       0.15\n",
       "4       0.29\n",
       "...      ...\n",
       "813943  0.49\n",
       "813944  0.01\n",
       "813945  0.20\n",
       "813946  0.44\n",
       "813947  0.02\n",
       "\n",
       "[813948 rows x 1 columns]"
      ]
     },
     "execution_count": 33,
     "metadata": {},
     "output_type": "execute_result"
    }
   ],
   "source": [
    "# 레이블 값이 1일때의 예측 확률을 추출 \n",
    "pred_proba=pd.DataFrame(RF.predict_proba(X_test)[:, 1])\n",
    "pred_proba"
   ]
  },
  {
   "cell_type": "code",
   "execution_count": 34,
   "id": "87cd56d3",
   "metadata": {},
   "outputs": [
    {
     "name": "stdout",
     "output_type": "stream",
     "text": [
      "accuracy: 0.8809923975487377\n",
      "roc-auc-score: 0.7273423574813745\n",
      "recall: 0.17945426945908255\n",
      "precision: 0.3237160221732452\n",
      "f1-score: 0.2309048178613396\n"
     ]
    }
   ],
   "source": [
    "#smote data with Accuracy\n",
    "print(\"accuracy:\", accuracy_score(y_test, pred_sm))\n",
    "#smote data with ROC-AUC\n",
    "# print(\"roc-auc-score:\",roc_auc_score(y_test,pred))\n",
    "print(\"roc-auc-score:\",roc_auc_score(y_test,pred_proba))\n",
    "#smote data with Recall\n",
    "print(\"recall:\",recall_score(y_test, pred_sm))\n",
    "#smote data with Precision\n",
    "print(\"precision:\",precision_score(y_test, pred_sm))\n",
    "#smote data with F1-score\n",
    "print(\"f1-score:\",f1_score(y_test, pred_sm))"
   ]
  },
  {
   "cell_type": "markdown",
   "id": "e5d14de9",
   "metadata": {},
   "source": [
    "# SMOTE + Tomek"
   ]
  },
  {
   "cell_type": "code",
   "execution_count": null,
   "id": "a4afddc7",
   "metadata": {},
   "outputs": [],
   "source": [
    "from imblearn.combine import *\n",
    "\n",
    "X_smtm, y_smtm = SMOTETomek(random_state=0, sampling_strategy='all',n_jobs=-1).fit_sample(X_train, y_train)\n",
    "RF=RandomForestClassifier(random_state=0,n_jobs=-1)\n",
    "RF.fit(X_smtm,y_smtm)\n",
    "pred_smtm=pd.DataFrame(RF.predict(X_test))\n",
    "pred_proba=pd.DataFrame(RF.predict_proba(X_test)[:, 1])\n",
    "pred_proba"
   ]
  },
  {
   "cell_type": "code",
   "execution_count": null,
   "id": "e42e116c",
   "metadata": {},
   "outputs": [],
   "source": [
    "#smtm data with Accuracy\n",
    "print(\"accuracy:\", accuracy_score(y_test, pred_smtm))\n",
    "#smtm data with ROC-AUC\n",
    "# print(\"roc-auc-score:\",roc_auc_score(y_test,pred))\n",
    "print(\"roc-auc-score:\",roc_auc_score(y_test,pred_proba))\n",
    "#smtm data with Recall\n",
    "print(\"recall:\",recall_score(y_test, pred_smtm))\n",
    "#smtm data with Precision\n",
    "print(\"precision:\",precision_score(y_test, pred_smtm))\n",
    "#smtm data with F1-score\n",
    "print(\"f1-score:\",f1_score(y_test, pred_smtm))"
   ]
  },
  {
   "cell_type": "markdown",
   "id": "581ecdef",
   "metadata": {},
   "source": [
    "# under-sampling methods"
   ]
  },
  {
   "cell_type": "markdown",
   "id": "8da34da6",
   "metadata": {},
   "source": [
    "### RandomUnderSampler \n",
    "### 무작위"
   ]
  },
  {
   "cell_type": "code",
   "execution_count": 40,
   "id": "82c87cda",
   "metadata": {},
   "outputs": [],
   "source": [
    "from imblearn.under_sampling import *\n",
    "X_rus, y_rus = RandomUnderSampler(sampling_strategy =1,random_state=0).fit_resample(X_train, y_train)\n",
    "# sampleing_strategy = minarity / majarity\n",
    "RF.fit(X_rus, y_rus)\n",
    "pred_rus=pd.DataFrame(RF.predict(X_test))\n",
    "pred_proba_rus=pd.DataFrame(RF.predict_proba(X_test)[:, 1])"
   ]
  },
  {
   "cell_type": "code",
   "execution_count": 77,
   "id": "bf35d11f",
   "metadata": {},
   "outputs": [
    {
     "name": "stdout",
     "output_type": "stream",
     "text": [
      "original ratio\n",
      "0    2929843\n",
      "1     325945\n",
      "Name: target, dtype: int64\n",
      "RandomUnderSampler\n",
      "0    325945\n",
      "1    325945\n",
      "Name: target, dtype: int64\n"
     ]
    }
   ],
   "source": [
    "print(\"original ratio\")\n",
    "print(y_train.value_counts())\n",
    "\n",
    "print(\"RandomUnderSampler\")\n",
    "print(y_rus.value_counts())"
   ]
  },
  {
   "cell_type": "code",
   "execution_count": 39,
   "id": "8fcb8664",
   "metadata": {},
   "outputs": [
    {
     "name": "stdout",
     "output_type": "stream",
     "text": [
      "rus_accuracy: 0.6507319877928319\n",
      "rus_roc-auc-score: 0.7096429607313157\n",
      "rus_recall: 0.6632810475261943\n",
      "rus_precision: 0.17295420390220984\n",
      "rus_f1-score: 0.2743659642244548\n"
     ]
    }
   ],
   "source": [
    "#rus data with Accuracy\n",
    "print(\"rus_accuracy:\", accuracy_score(y_test, pred_rus))\n",
    "#rus data with ROC-AUC\n",
    "print(\"rus_roc-auc-score:\",roc_auc_score(y_test,pred_proba_rus))\n",
    "#rus data with Recall\n",
    "print(\"rus_recall:\",recall_score(y_test, pred_rus))\n",
    "#rus data with Precision\n",
    "print(\"rus_precision:\",precision_score(y_test, pred_rus))\n",
    "#rus data with F1-score\n",
    "print(\"rus_f1-score:\",f1_score(y_test, pred_rus))"
   ]
  },
  {
   "cell_type": "markdown",
   "id": "d63dc360",
   "metadata": {},
   "source": [
    "rus_accuracy: 0.6507319877928319  \n",
    "rus_roc-auc-score: 0.7096429607313157  \n",
    "rus_recall: 0.6632810475261943  \n",
    "rus_precision: 0.17295420390220984  \n",
    "rus_f1-score: 0.2743659642244548  "
   ]
  },
  {
   "cell_type": "markdown",
   "id": "ee9f5fc6",
   "metadata": {},
   "source": [
    "accuracy: 0.8988940325426195  \n",
    "roc-auc-score: 0.7180400223671922  \n",
    "recall: 0.029113033605252442  \n",
    "precision: 0.3942179144385027  \n",
    "f1-score: 0.05422178295197269  \n",
    "\n",
    "모델이 1이라 한것중에 실제 1 을 맞춘 비율이 낮아짐 (precision)\n",
    "0이엄청많은상태에서 학습했으면 test에서도 0을 예측하는 값이 많아짐\n",
    "undersampling 전에는 1로 예측하는게 적어서 precision 분모가 작음\n",
    "반면 undersampling 하면 클래스가 반반이여서 샘플링 전보다 0이라 예측하는게적음 1이라 예측이 많아짐 -> 분모커짐\n",
    "precision이 작아짐"
   ]
  },
  {
   "cell_type": "code",
   "execution_count": 10,
   "id": "7fc6207e",
   "metadata": {},
   "outputs": [
    {
     "ename": "SyntaxError",
     "evalue": "invalid syntax (<ipython-input-10-41218dbf1527>, line 11)",
     "output_type": "error",
     "traceback": [
      "\u001b[0;36m  File \u001b[0;32m\"<ipython-input-10-41218dbf1527>\"\u001b[0;36m, line \u001b[0;32m11\u001b[0m\n\u001b[0;31m    def plot_samples(=None, y=None):\u001b[0m\n\u001b[0m                     ^\u001b[0m\n\u001b[0;31mSyntaxError\u001b[0m\u001b[0;31m:\u001b[0m invalid syntax\n"
     ]
    }
   ],
   "source": [
    "# X00, y00 = make_classification(n_samples=1000, n_features=2, n_informative=2, n_redundant=0, \n",
    "#                                n_classes=2, n_clusters_per_class=1, class_sep=0.8, \n",
    "#                                weights=[0.99, 0.01], random_state=0)\n",
    "# X0, X_test, y0, y_test = train_test_split(X00, y00, test_size=0.25, random_state=12345)\n",
    "\n",
    "x1_min = X0[:, 0].min() - 2\n",
    "x1_max = X0[:, 0].max() + 2\n",
    "x2_min = X0[:, 1].min() - 2\n",
    "x2_max = X0[:, 1].max() + 2\n",
    "\n",
    "def plot_samples(X=None, y=None):\n",
    "    XX, YY = np.mgrid[x1_min:x1_max:300j, x2_min:x2_max:300j]\n",
    "#     params = {'kernel': 'linear'}\n",
    "#    params = {'kernel': 'rbf', 'gamma': 1}\n",
    "    if X is None:\n",
    "        plt.figure(figsize=(7,7))\n",
    "        X = X_train\n",
    "        model = RF().fit(X_train, y_train)\n",
    "        Z = model.predict(np.c_[XX.ravel(), YY.ravel()])\n",
    "        Z = Z.reshape(XX.shape)\n",
    "        plt.contourf(XX, YY, Z, alpha=0.6)\n",
    "        plt.scatter(X_train[:, 0], X_train[:, 1], marker='o', c=y_train, s=40, \n",
    "                    linewidth=1, edgecolor='gray', alpha=0.7)\n",
    "        plt.title(Counter(y_train))\n",
    "    else:\n",
    "        plt.figure(figsize=(14,7))\n",
    "        plt.subplot(121)\n",
    "        model = RF().fit(X_train, y_train)\n",
    "        Z = model.predict(np.c_[XX.ravel(), YY.ravel()])\n",
    "        Z = Z.reshape(XX.shape)\n",
    "        plt.contourf(XX, YY, Z, alpha=0.6)\n",
    "        plt.scatter(X0[:, 0], X0[:, 1], marker='o', c=y_train, s=40, \n",
    "                    linewidth=1, edgecolor='gray', alpha=0.7)\n",
    "        plt.xlim(-2, 4)\n",
    "        plt.ylim(-3, 4)\n",
    "        plt.title(Counter(y_train))\n",
    "        plt.subplot(122)\n",
    "        model = RF().fit(X, y)\n",
    "        Z = model.predict(np.c_[XX.ravel(), YY.ravel()])\n",
    "        Z = Z.reshape(XX.shape)\n",
    "        plt.contourf(XX, YY, Z, alpha=0.6)\n",
    "        plt.scatter(X[:, 0], X[:, 1], marker='o', c=y, s=40, \n",
    "                    linewidth=1, edgecolor='gray', alpha=0.7)\n",
    "        plt.xlim(-2, 4)\n",
    "        plt.ylim(-3, 4)\n",
    "        plt.title(Counter(y))\n",
    "        plt.tight_layout()\n",
    "    plt.show()\n",
    "    \n",
    "    return model.predict(X)\n",
    "    \n",
    "y_pred = plot_samples()"
   ]
  },
  {
   "cell_type": "markdown",
   "id": "efec4af1",
   "metadata": {},
   "source": [
    "## NearMiss-1 \n",
    "### 아웃라이어를 없애는"
   ]
  },
  {
   "cell_type": "code",
   "execution_count": 40,
   "id": "be26dc5d",
   "metadata": {},
   "outputs": [],
   "source": [
    "X_nm1,Y_nm1 = NearMiss(sampling_strategy='auto',version=1, n_neighbors=3,n_jobs=-1).fit_resample(X_train,y_train)\n",
    "RF.fit(X_nm1,Y_nm1)\n",
    "pred_nm1=pd.DataFrame(RF.predict(X_test))\n",
    "pred_proba_nm1=pd.DataFrame(RF.predict_proba(X_test)[:, 1])"
   ]
  },
  {
   "cell_type": "code",
   "execution_count": 41,
   "id": "7cab6634",
   "metadata": {
    "scrolled": true
   },
   "outputs": [
    {
     "name": "stdout",
     "output_type": "stream",
     "text": [
      "nm1_accuracy: 0.24233734833183446\n",
      "nm1_roc-auc-score: 0.4403920696970796\n",
      "nm1_recall: 0.7384393241925731\n",
      "nm1_precision: 0.09130389004774628\n",
      "nm1_f1-score: 0.1625138517697673\n"
     ]
    }
   ],
   "source": [
    "#nm1 data with Accuracy\n",
    "print(\"nm1_accuracy:\", accuracy_score(y_test, pred_nm1))\n",
    "#nm1 data with ROC-AUC\n",
    "print(\"nm1_roc-auc-score:\",roc_auc_score(y_test,pred_proba_nm1))\n",
    "#nm1 data with Recall\n",
    "print(\"nm1_recall:\",recall_score(y_test, pred_nm1))\n",
    "#nm1 data with Precision\n",
    "print(\"nm1_precision:\",precision_score(y_test, pred_nm1))\n",
    "#nm1 data with F1-score\n",
    "print(\"nm1_f1-score:\",f1_score(y_test, pred_nm1))"
   ]
  },
  {
   "cell_type": "markdown",
   "id": "a5af436d",
   "metadata": {},
   "source": [
    "accuracy: 0.8988940325426195  \n",
    "roc-auc-score: 0.7180400223671922  \n",
    "recall: 0.029113033605252442  \n",
    "precision: 0.3942179144385027  \n",
    "f1-score: 0.05422178295197269  \n",
    "\n",
    "f1스코어는 리콜값에 종속되어 좋아진것\n",
    "recall 이 좋아진 이유만 알면됨\n",
    "\n",
    "accuracy -> 다수클래스를 지워서 다수클래스로 판단하는 비율이 적어져서 정확도 떨어짐 (데이터를 삭제해버려서 경계선이 움직임) 그래서 정확도는 낮아진다 0이 있는데 삭제해버렸으니까 정확도는 낮아짐  \n",
    "\n",
    "recall -> 전체 1중에 1이라고 판단하는게 많아짐, 0으로 판단하는 값이 적어지고 1로 판단하는 값이 많아져서 실제값이 1인것중에 1이라고 판단하는 비율이 높아짐\n",
    "precision - > throw-back, 1이라고 예측한거중에 0 이 많기 때문에 낮아짐 , 모델이 옮겨지니까 사실 0인데 1로 판단하는 경우가 많아지니까 test에선 경계안에 0 이 그대로있어서 (테스트는 그대로 두고 트레인에서 리샘플했을 때 테스트 결과)  \n",
    "\n",
    "\n",
    "0을 못맞추는 비율이 더큼 ->정확도낮아짐  "
   ]
  },
  {
   "cell_type": "markdown",
   "id": "65b71bbf",
   "metadata": {},
   "source": [
    "## NearMiss-2"
   ]
  },
  {
   "cell_type": "code",
   "execution_count": null,
   "id": "f0109e59",
   "metadata": {},
   "outputs": [],
   "source": [
    "X_nm2,Y_nm2 = NearMiss(sampling_strategy='auto',version=2, n_neighbors=3,n_jobs=-1).fit_resample(X_train,y_train)\n",
    "RF.fit(X_nm2,Y_nm2)\n",
    "pred_nm2=pd.DataFrame(RF.predict(X_test))\n",
    "pred_proba_nm2=pd.DataFrame(RF.predict_proba(X_test)[:, 1])"
   ]
  },
  {
   "cell_type": "code",
   "execution_count": null,
   "id": "180c14e4",
   "metadata": {},
   "outputs": [],
   "source": [
    "#nm2 data with Accuracy\n",
    "print(\"nm2_accuracy:\", accuracy_score(y_test, pred_nm2))\n",
    "#nm2 data with ROC-AUC\n",
    "print(\"nm2_roc-auc-score:\",roc_auc_score(y_test,pred_proba_nm2))\n",
    "#nm2 data with Recall\n",
    "print(\"nm2_recall:\",recall_score(y_test, pred_nm2))\n",
    "#nm2 data with Precision\n",
    "print(\"nm2_precision:\",precision_score(y_test, pred_nm2))\n",
    "#nm2 data with F1-score\n",
    "print(\"nm2_f1-score:\",f1_score(y_test, pred_nm2))"
   ]
  },
  {
   "cell_type": "markdown",
   "id": "8ca9049e",
   "metadata": {},
   "source": [
    "## NearMiss-3"
   ]
  },
  {
   "cell_type": "code",
   "execution_count": null,
   "id": "99faeb39",
   "metadata": {},
   "outputs": [],
   "source": [
    "X_nm3,Y_nm3 = NearMiss(version=3, n_neighbors_ver3=3).fit_resample(X_train,y_train)\n",
    "RF=RandomForestClassifier(random_state=0,n_jobs=-1)\n",
    "RF.fit(X_nm3,Y_nm3)\n",
    "pred_nm3=pd.DataFrame(RF.predict(X_test))\n",
    "pred_proba_nm3=pd.DataFrame(RF.predict_proba(X_test)[:, 1])"
   ]
  },
  {
   "cell_type": "code",
   "execution_count": null,
   "id": "358f37d8",
   "metadata": {},
   "outputs": [],
   "source": [
    "#nm3 data with Accuracy\n",
    "print(\"nm3_accuracy:\", accuracy_score(y_test, pred_nm3))\n",
    "#nm3 data with ROC-AUC\n",
    "print(\"nm3_roc-auc-score:\",roc_auc_score(y_test,pred_proba_nm3))\n",
    "#nm3 data with Recall\n",
    "print(\"nm3_recall:\",recall_score(y_test, pred_nm3))\n",
    "#nm3 data with Precision\n",
    "print(\"nm3_precision:\",precision_score(y_test, pred_nm3))\n",
    "#nm3 data with F1-score\n",
    "print(\"nm3_f1-score:\",f1_score(y_test, pred_nm3))"
   ]
  },
  {
   "cell_type": "markdown",
   "id": "2ec56547",
   "metadata": {},
   "source": [
    "# CNN"
   ]
  },
  {
   "cell_type": "code",
   "execution_count": null,
   "id": "60825479",
   "metadata": {},
   "outputs": [],
   "source": [
    "X_cnn,y_cnn = CondensedNearestNeighbour(sampling_strategy='auto',random_state=0,n_jobs=-1).fit_resample(X_train, y_train)\n",
    "RF.fit(X_cnn,Y_cnn)\n",
    "pred_cnn=pd.DataFrame(RF.predict(X_test))\n",
    "pred_proba_cnn=pd.DataFrame(RF.predict_proba(X_test)[:, 1])\n"
   ]
  },
  {
   "cell_type": "code",
   "execution_count": null,
   "id": "283de9d3",
   "metadata": {},
   "outputs": [],
   "source": [
    "#cnn data with Accuracy\n",
    "print(\"cnn_accuracy:\", accuracy_score(y_test, pred_cnn))\n",
    "#cnn data with ROC-AUC\n",
    "print(\"cnn_roc-auc-score:\",roc_auc_score(y_test,pred_proba_cnn))\n",
    "#cnn data with Recall\n",
    "print(\"cnn_recall:\",recall_score(y_test, pred_cnn))\n",
    "#cnn data with Precision\n",
    "print(\"cnn_precision:\",precision_score(y_test, pred_cnn))\n",
    "#cnn data with F1-score\n",
    "print(\"cnn_f1-score:\",f1_score(y_test, pred_cnn))"
   ]
  },
  {
   "cell_type": "markdown",
   "id": "afd87a64",
   "metadata": {},
   "source": [
    "# ENN"
   ]
  },
  {
   "cell_type": "markdown",
   "id": "d1eedc05",
   "metadata": {},
   "source": [
    "# 경계선을 분명하게해줌"
   ]
  },
  {
   "cell_type": "code",
   "execution_count": null,
   "id": "6c86c9da",
   "metadata": {},
   "outputs": [],
   "source": [
    "X_enn,y_enn = EditedNearestNeighbours(sampling_strategy='auto',kind_sel=\"all\",n_neighbors=3,n_jobs=-1,random_state=0).fit_resample(X_train, y_train)\n",
    "RF=RandomForestClassifier(random_state=0,n_jobs=-1)\n",
    "RF.fit(X_enn,Y_enn)\n",
    "pred_enn=pd.DataFrame(RF.predict(X_test))\n",
    "pred_proba_enn=pd.DataFrame(RF.predict_proba(X_test)[:, 1])\n"
   ]
  },
  {
   "cell_type": "code",
   "execution_count": null,
   "id": "93257d6c",
   "metadata": {},
   "outputs": [],
   "source": [
    "#enn data with Accuracy\n",
    "print(\"enn_accuracy:\", accuracy_score(y_test, pred_enn))\n",
    "#enn data with ROC-AUC\n",
    "print(\"enn_roc-auc-score:\",roc_auc_score(y_test,pred_proba_enn))\n",
    "#enn data with Recall\n",
    "print(\"enn_recall:\",recall_score(y_test, pred_enn))\n",
    "#enn data with Precision\n",
    "print(\"enn_precision:\",precision_score(y_test, pred_enn))\n",
    "#enn data with F1-score\n",
    "print(\"enn_f1-score:\",f1_score(y_test, pred_enn))"
   ]
  },
  {
   "cell_type": "markdown",
   "id": "ea125664",
   "metadata": {},
   "source": [
    "# RepeatedEditedNearestNeighbours"
   ]
  },
  {
   "cell_type": "code",
   "execution_count": null,
   "id": "442ee97f",
   "metadata": {},
   "outputs": [],
   "source": [
    "X_renn,y_renn = RepeatedEditedNearestNeighbours(sampling_strategy = \"auto\",kind_sel=\"all\",n_neighbors=3,n_jobs=-1,random_state=0,max_iter=100).fit_resample(X_train, y_train)\n",
    "RF=RandomForestClassifier(random_state=0,n_jobs=-1)\n",
    "RF.fit(X_renn,Y_renn)\n",
    "pred_renn=pd.DataFrame(RF.predict(X_test))\n",
    "pred_proba_renn=pd.DataFrame(RF.predict_proba(X_test)[:, 1])\n"
   ]
  },
  {
   "cell_type": "code",
   "execution_count": null,
   "id": "61822870",
   "metadata": {},
   "outputs": [],
   "source": [
    "#renn data with Accuracy\n",
    "print(\"renn_accuracy:\", accuracy_score(y_test, pred_renn))\n",
    "#renn data with ROC-AUC\n",
    "print(\"renn_roc-auc-score:\",roc_auc_score(y_test,pred_proba_renn))\n",
    "#renn data with Recall\n",
    "print(\"renn_recall:\",recall_score(y_test, pred_renn))\n",
    "#renn data with Precision\n",
    "print(\"renn_precision:\",precision_score(y_test, pred_renn))\n",
    "#renn data with F1-score\n",
    "print(\"renn_f1-score:\",f1_score(y_test, pred_renn))"
   ]
  },
  {
   "cell_type": "markdown",
   "id": "017099f6",
   "metadata": {},
   "source": [
    "# TomekLinks"
   ]
  },
  {
   "cell_type": "code",
   "execution_count": null,
   "id": "9163db3c",
   "metadata": {},
   "outputs": [],
   "source": [
    "X_tm, y_tm = TomekLinks(sampling_strategy='auto',n_jobs=-1).fit_resample(X_train, y_train)\n",
    "RF=RandomForestClassifier(random_state=0,n_jobs=-1)\n",
    "RF.fit(X_tm,y_tm)\n",
    "pred_tm=pd.DataFrame(RF.predict(X_test))\n",
    "pred_proba_tm=pd.DataFrame(RF.predict_proba(X_test)[:, 1])"
   ]
  },
  {
   "cell_type": "code",
   "execution_count": null,
   "id": "fffe3115",
   "metadata": {},
   "outputs": [],
   "source": [
    "#tomek data with Accuracy\n",
    "print(\"tomek_accuracy:\", accuracy_score(y_test, pred_tm))\n",
    "#tomek data with ROC-AUC\n",
    "print(\"tomek_roc-auc-score:\",roc_auc_score(y_test,pred_proba_tm))\n",
    "#tomek data with Recall\n",
    "print(\"tomek_recall:\",recall_score(y_test, pred_tm))\n",
    "#tomek data with Precision\n",
    "print(\"tomek_precision:\",precision_score(y_test, pred_tm))\n",
    "#tomek data with F1-score\n",
    "print(\"tomek_f1-score:\",f1_score(y_test, pred_tm))"
   ]
  },
  {
   "cell_type": "markdown",
   "id": "321b8c7b",
   "metadata": {},
   "source": [
    "# 0.1%"
   ]
  },
  {
   "cell_type": "code",
   "execution_count": 23,
   "id": "2db75f67",
   "metadata": {},
   "outputs": [
    {
     "data": {
      "text/plain": [
       "3666.4284284284286"
      ]
     },
     "execution_count": 23,
     "metadata": {},
     "output_type": "execute_result"
    }
   ],
   "source": [
    "target0_df.shape[0]/999"
   ]
  },
  {
   "cell_type": "code",
   "execution_count": 24,
   "id": "f1a30968",
   "metadata": {},
   "outputs": [
    {
     "name": "stdout",
     "output_type": "stream",
     "text": [
      "0    99.900012\n",
      "1     0.099988\n",
      "Name: target, dtype: float64\n"
     ]
    },
    {
     "data": {
      "image/png": "[encoded data removed]",
      "text/plain": [
       "<Figure size 432x288 with 1 Axes>"
      ]
     },
     "metadata": {
      "needs_background": "light"
     },
     "output_type": "display_data"
    }
   ],
   "source": [
    "target1_df01 = target1_df.sample(n=3666) # 0.1퍼센트\n",
    "df_01=pd.concat([target0_df,target1_df01],axis=0)\n",
    "df_01.target.value_counts().plot(kind='bar', title='Count (target)')\n",
    "print(df_01.target.value_counts(normalize=True)*100)"
   ]
  },
  {
   "cell_type": "markdown",
   "id": "f03457e2",
   "metadata": {},
   "source": [
    "# 1%"
   ]
  },
  {
   "cell_type": "code",
   "execution_count": 15,
   "id": "969eecfb",
   "metadata": {},
   "outputs": [
    {
     "data": {
      "text/plain": [
       "36997.59595959596"
      ]
     },
     "execution_count": 15,
     "metadata": {},
     "output_type": "execute_result"
    }
   ],
   "source": [
    "target0_df.shape[0]/99"
   ]
  },
  {
   "cell_type": "code",
   "execution_count": 25,
   "id": "e8a775ab",
   "metadata": {},
   "outputs": [
    {
     "name": "stdout",
     "output_type": "stream",
     "text": [
      "0    98.999989\n",
      "1     1.000011\n",
      "Name: target, dtype: float64\n"
     ]
    },
    {
     "data": {
      "image/png": "[encoded data removed]",
      "text/plain": [
       "<Figure size 432x288 with 1 Axes>"
      ]
     },
     "metadata": {
      "needs_background": "light"
     },
     "output_type": "display_data"
    }
   ],
   "source": [
    "target1_df1 = target1_df.sample(n=36998) # 1퍼센트\n",
    "df_1=pd.concat([target0_df,target1_df1],axis=0)\n",
    "df_1.target.value_counts().plot(kind='bar', title='Count (target)')\n",
    "print(df_1.target.value_counts(normalize=True)*100)"
   ]
  },
  {
   "cell_type": "code",
   "execution_count": null,
   "id": "2988fafa",
   "metadata": {},
   "outputs": [],
   "source": []
  }
 ],
 "metadata": {
  "kernelspec": {
   "display_name": "Python 3",
   "language": "python",
   "name": "python3"
  },
  "language_info": {
   "codemirror_mode": {
    "name": "ipython",
    "version": 3
   },
   "file_extension": ".py",
   "mimetype": "text/x-python",
   "name": "python",
   "nbconvert_exporter": "python",
   "pygments_lexer": "ipython3",
   "version": "3.8.8"
  }
 },
 "nbformat": 4,
 "nbformat_minor": 5
}
